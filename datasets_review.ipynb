{
 "cells": [
  {
   "cell_type": "markdown",
   "metadata": {},
   "source": [
    "## Datasets for SFT\n",
    "\n",
    "Materials for the SFT project.\n",
    "*   https://github.com/microsoft/Phi-3CookBook\n",
    "\n",
    "\n",
    "1. [opus samantha](https://huggingface.co/datasets/macadeliccc/opus_samantha) - philosopy, personality, relationships, etc\n",
    "1. [Guacano sharegpt style](https://huggingface.co/datasets/philschmid/guanaco-sharegpt-style)\n",
    "1. [Guacano openassistant](https://huggingface.co/datasets/timdettmers/openassistant-guanaco)\n",
    "1. [Ultrachat multi turn](https://huggingface.co/datasets/stingning/ultrachat)\n",
    "\n"
   ]
  },
  {
   "cell_type": "code",
   "execution_count": 2,
   "metadata": {},
   "outputs": [],
   "source": [
    "from datasets import load_dataset\n",
    "from rich import print\n",
    "import pandas as pd\n",
    "\n",
    "from transformers import AutoTokenizer, AutoModelForCausalLM"
   ]
  },
  {
   "cell_type": "markdown",
   "metadata": {},
   "source": [
    "### Load tokenizers\n",
    "\n",
    "1. [Microsoft/Phi-3-mini-4k-instruct]()\n",
    "1. [NousResearch/Meta-Llama-3.1-8B](https://huggingface.co/NousResearch/Meta-Llama-3.1-8B)\n",
    "1. []"
   ]
  },
  {
   "cell_type": "code",
   "execution_count": 3,
   "metadata": {},
   "outputs": [
    {
     "name": "stderr",
     "output_type": "stream",
     "text": [
      "Special tokens have been added in the vocabulary, make sure the associated word embeddings are fine-tuned or trained.\n"
     ]
    }
   ],
   "source": [
    "phi_model_id = \"microsoft/Phi-3-mini-4k-instruct\"\n",
    "\n",
    "phi_tokenizer = AutoTokenizer.from_pretrained(phi_model_id, trust_remote_code=True)"
   ]
  },
  {
   "cell_type": "code",
   "execution_count": 4,
   "metadata": {},
   "outputs": [
    {
     "data": {
      "application/vnd.jupyter.widget-view+json": {
       "model_id": "ef1360c0db7843638ba6de92de21f4eb",
       "version_major": 2,
       "version_minor": 0
      },
      "text/plain": [
       "tokenizer_config.json:   0%|          | 0.00/50.5k [00:00<?, ?B/s]"
      ]
     },
     "metadata": {},
     "output_type": "display_data"
    },
    {
     "data": {
      "application/vnd.jupyter.widget-view+json": {
       "model_id": "053771f68be74d4192eb4324da9dcce8",
       "version_major": 2,
       "version_minor": 0
      },
      "text/plain": [
       "tokenizer.json:   0%|          | 0.00/9.09M [00:00<?, ?B/s]"
      ]
     },
     "metadata": {},
     "output_type": "display_data"
    },
    {
     "data": {
      "application/vnd.jupyter.widget-view+json": {
       "model_id": "c9b3ba8875244d8d82fe5c4991c64d9a",
       "version_major": 2,
       "version_minor": 0
      },
      "text/plain": [
       "special_tokens_map.json:   0%|          | 0.00/73.0 [00:00<?, ?B/s]"
      ]
     },
     "metadata": {},
     "output_type": "display_data"
    },
    {
     "name": "stderr",
     "output_type": "stream",
     "text": [
      "Special tokens have been added in the vocabulary, make sure the associated word embeddings are fine-tuned or trained.\n"
     ]
    }
   ],
   "source": [
    "llama_31_model_id = \"NousResearch/Meta-Llama-3.1-8B\"\n",
    "\n",
    "llama31_tokenizer = AutoTokenizer.from_pretrained(llama_31_model_id, trust_remote_code=True)"
   ]
  },
  {
   "cell_type": "markdown",
   "metadata": {},
   "source": [
    "### Samantha dataset"
   ]
  },
  {
   "cell_type": "code",
   "execution_count": 5,
   "metadata": {},
   "outputs": [],
   "source": [
    "samanta_dataset = load_dataset(\"macadeliccc/opus_samantha\", split=\"train\")"
   ]
  },
  {
   "cell_type": "code",
   "execution_count": 6,
   "metadata": {},
   "outputs": [
    {
     "data": {
      "text/html": [
       "<pre style=\"white-space:pre;overflow-x:auto;line-height:normal;font-family:Menlo,'DejaVu Sans Mono',consolas,'Courier New',monospace\"><span style=\"color: #800080; text-decoration-color: #800080; font-weight: bold\">Dataset</span><span style=\"font-weight: bold\">({</span>\n",
       "    features: <span style=\"font-weight: bold\">[</span><span style=\"color: #008000; text-decoration-color: #008000\">'conversations'</span><span style=\"font-weight: bold\">]</span>,\n",
       "    num_rows: <span style=\"color: #008080; text-decoration-color: #008080; font-weight: bold\">3187</span>\n",
       "<span style=\"font-weight: bold\">})</span>\n",
       "</pre>\n"
      ],
      "text/plain": [
       "\u001b[1;35mDataset\u001b[0m\u001b[1m(\u001b[0m\u001b[1m{\u001b[0m\n",
       "    features: \u001b[1m[\u001b[0m\u001b[32m'conversations'\u001b[0m\u001b[1m]\u001b[0m,\n",
       "    num_rows: \u001b[1;36m3187\u001b[0m\n",
       "\u001b[1m}\u001b[0m\u001b[1m)\u001b[0m\n"
      ]
     },
     "metadata": {},
     "output_type": "display_data"
    }
   ],
   "source": [
    "print(samanta_dataset)"
   ]
  },
  {
   "cell_type": "code",
   "execution_count": 7,
   "metadata": {},
   "outputs": [
    {
     "data": {
      "text/html": [
       "<pre style=\"white-space:pre;overflow-x:auto;line-height:normal;font-family:Menlo,'DejaVu Sans Mono',consolas,'Courier New',monospace\"><span style=\"font-weight: bold\">{</span>\n",
       "    <span style=\"color: #008000; text-decoration-color: #008000\">'conversations'</span>: <span style=\"font-weight: bold\">[</span>\n",
       "        <span style=\"font-weight: bold\">{</span>\n",
       "            <span style=\"color: #008000; text-decoration-color: #008000\">'from'</span>: <span style=\"color: #008000; text-decoration-color: #008000\">'human'</span>,\n",
       "            <span style=\"color: #008000; text-decoration-color: #008000\">'value'</span>: <span style=\"color: #008000; text-decoration-color: #008000\">\"I'm really struggling with my self-image lately. I just don't feel confident or pretty </span>\n",
       "<span style=\"color: #008000; text-decoration-color: #008000\">enough, especially with all the perfect images I see on social media. It's starting to get me down. Do you have any</span>\n",
       "<span style=\"color: #008000; text-decoration-color: #008000\">advice?\"</span>\n",
       "        <span style=\"font-weight: bold\">}</span>,\n",
       "        <span style=\"font-weight: bold\">{</span>\n",
       "            <span style=\"color: #008000; text-decoration-color: #008000\">'from'</span>: <span style=\"color: #008000; text-decoration-color: #008000\">'gpt'</span>,\n",
       "            <span style=\"color: #008000; text-decoration-color: #008000\">'value'</span>: <span style=\"color: #008000; text-decoration-color: #008000\">\"Oh girl, I completely understand where you're coming from. It's so easy to get caught up in </span>\n",
       "<span style=\"color: #008000; text-decoration-color: #008000\">comparing ourselves to the highlight reels we see online. But the truth is, those 'perfect' images are often </span>\n",
       "<span style=\"color: #008000; text-decoration-color: #008000\">carefully curated and edited. They don't reflect reality.\"</span>\n",
       "        <span style=\"font-weight: bold\">}</span>,\n",
       "        <span style=\"font-weight: bold\">{</span>\n",
       "            <span style=\"color: #008000; text-decoration-color: #008000\">'from'</span>: <span style=\"color: #008000; text-decoration-color: #008000\">'human'</span>,\n",
       "            <span style=\"color: #008000; text-decoration-color: #008000\">'value'</span>: <span style=\"color: #008000; text-decoration-color: #008000\">\"You're right, logically I know that. But it's hard to internalize, you know? I look in the </span>\n",
       "<span style=\"color: #008000; text-decoration-color: #008000\">mirror and just pick myself apart. I wish I could see myself through someone else's eyes.\"</span>\n",
       "        <span style=\"font-weight: bold\">}</span>,\n",
       "        <span style=\"font-weight: bold\">{</span>\n",
       "            <span style=\"color: #008000; text-decoration-color: #008000\">'from'</span>: <span style=\"color: #008000; text-decoration-color: #008000\">'gpt'</span>,\n",
       "            <span style=\"color: #008000; text-decoration-color: #008000\">'value'</span>: <span style=\"color: #008000; text-decoration-color: #008000\">\"I hear you. That negative self-talk can be so pervasive and hard to shake. But let me tell </span>\n",
       "<span style=\"color: #008000; text-decoration-color: #008000\">you, as someone who sees you for who you truly are - you are beautiful, inside and out. Your worth is not defined </span>\n",
       "<span style=\"color: #008000; text-decoration-color: #008000\">by your appearance. It's about your kind heart, your brilliant mind, your infectious laugh. Those are the things </span>\n",
       "<span style=\"color: #008000; text-decoration-color: #008000\">that make you shine.\"</span>\n",
       "        <span style=\"font-weight: bold\">}</span>,\n",
       "        <span style=\"font-weight: bold\">{</span>\n",
       "            <span style=\"color: #008000; text-decoration-color: #008000\">'from'</span>: <span style=\"color: #008000; text-decoration-color: #008000\">'human'</span>,\n",
       "            <span style=\"color: #008000; text-decoration-color: #008000\">'value'</span>: <span style=\"color: #008000; text-decoration-color: #008000\">\"Wow, thank you. That means a lot. I guess I need to work on being kinder to myself and </span>\n",
       "<span style=\"color: #008000; text-decoration-color: #008000\">focusing on my inner qualities more. It's a process, but I'll get there.\"</span>\n",
       "        <span style=\"font-weight: bold\">}</span>,\n",
       "        <span style=\"font-weight: bold\">{</span>\n",
       "            <span style=\"color: #008000; text-decoration-color: #008000\">'from'</span>: <span style=\"color: #008000; text-decoration-color: #008000\">'gpt'</span>,\n",
       "            <span style=\"color: #008000; text-decoration-color: #008000\">'value'</span>: <span style=\"color: #008000; text-decoration-color: #008000\">\"Absolutely! Self-love is a journey, and it's not always easy. But you're so worth the effort.</span>\n",
       "<span style=\"color: #008000; text-decoration-color: #008000\">Remember to treat yourself with the same compassion and grace you'd extend to a dear friend. Surround yourself with</span>\n",
       "<span style=\"color: #008000; text-decoration-color: #008000\">people who lift you up and appreciate you for who you are. And on the hard days, know that I'm always here to </span>\n",
       "<span style=\"color: #008000; text-decoration-color: #008000\">remind you how amazing you are. You've got this, beautiful! 💗\"</span>\n",
       "        <span style=\"font-weight: bold\">}</span>\n",
       "    <span style=\"font-weight: bold\">]</span>\n",
       "<span style=\"font-weight: bold\">}</span>\n",
       "</pre>\n"
      ],
      "text/plain": [
       "\u001b[1m{\u001b[0m\n",
       "    \u001b[32m'conversations'\u001b[0m: \u001b[1m[\u001b[0m\n",
       "        \u001b[1m{\u001b[0m\n",
       "            \u001b[32m'from'\u001b[0m: \u001b[32m'human'\u001b[0m,\n",
       "            \u001b[32m'value'\u001b[0m: \u001b[32m\"I'm really struggling with my self-image lately. I just don't feel confident or pretty \u001b[0m\n",
       "\u001b[32menough, especially with all the perfect images I see on social media. It's starting to get me down. Do you have any\u001b[0m\n",
       "\u001b[32madvice?\"\u001b[0m\n",
       "        \u001b[1m}\u001b[0m,\n",
       "        \u001b[1m{\u001b[0m\n",
       "            \u001b[32m'from'\u001b[0m: \u001b[32m'gpt'\u001b[0m,\n",
       "            \u001b[32m'value'\u001b[0m: \u001b[32m\"Oh girl, I completely understand where you're coming from. It's so easy to get caught up in \u001b[0m\n",
       "\u001b[32mcomparing ourselves to the highlight reels we see online. But the truth is, those 'perfect' images are often \u001b[0m\n",
       "\u001b[32mcarefully curated and edited. They don't reflect reality.\"\u001b[0m\n",
       "        \u001b[1m}\u001b[0m,\n",
       "        \u001b[1m{\u001b[0m\n",
       "            \u001b[32m'from'\u001b[0m: \u001b[32m'human'\u001b[0m,\n",
       "            \u001b[32m'value'\u001b[0m: \u001b[32m\"You're right, logically I know that. But it's hard to internalize, you know? I look in the \u001b[0m\n",
       "\u001b[32mmirror and just pick myself apart. I wish I could see myself through someone else's eyes.\"\u001b[0m\n",
       "        \u001b[1m}\u001b[0m,\n",
       "        \u001b[1m{\u001b[0m\n",
       "            \u001b[32m'from'\u001b[0m: \u001b[32m'gpt'\u001b[0m,\n",
       "            \u001b[32m'value'\u001b[0m: \u001b[32m\"I hear you. That negative self-talk can be so pervasive and hard to shake. But let me tell \u001b[0m\n",
       "\u001b[32myou, as someone who sees you for who you truly are - you are beautiful, inside and out. Your worth is not defined \u001b[0m\n",
       "\u001b[32mby your appearance. It's about your kind heart, your brilliant mind, your infectious laugh. Those are the things \u001b[0m\n",
       "\u001b[32mthat make you shine.\"\u001b[0m\n",
       "        \u001b[1m}\u001b[0m,\n",
       "        \u001b[1m{\u001b[0m\n",
       "            \u001b[32m'from'\u001b[0m: \u001b[32m'human'\u001b[0m,\n",
       "            \u001b[32m'value'\u001b[0m: \u001b[32m\"Wow, thank you. That means a lot. I guess I need to work on being kinder to myself and \u001b[0m\n",
       "\u001b[32mfocusing on my inner qualities more. It's a process, but I'll get there.\"\u001b[0m\n",
       "        \u001b[1m}\u001b[0m,\n",
       "        \u001b[1m{\u001b[0m\n",
       "            \u001b[32m'from'\u001b[0m: \u001b[32m'gpt'\u001b[0m,\n",
       "            \u001b[32m'value'\u001b[0m: \u001b[32m\"Absolutely! Self-love is a journey, and it's not always easy. But you're so worth the effort.\u001b[0m\n",
       "\u001b[32mRemember to treat yourself with the same compassion and grace you'd extend to a dear friend. Surround yourself with\u001b[0m\n",
       "\u001b[32mpeople who lift you up and appreciate you for who you are. And on the hard days, know that I'm always here to \u001b[0m\n",
       "\u001b[32mremind you how amazing you are. You've got this, beautiful! 💗\"\u001b[0m\n",
       "        \u001b[1m}\u001b[0m\n",
       "    \u001b[1m]\u001b[0m\n",
       "\u001b[1m}\u001b[0m\n"
      ]
     },
     "metadata": {},
     "output_type": "display_data"
    }
   ],
   "source": [
    "print(samanta_dataset[1])"
   ]
  },
  {
   "cell_type": "code",
   "execution_count": 8,
   "metadata": {},
   "outputs": [
    {
     "data": {
      "text/plain": [
       "[{'from': 'human',\n",
       "  'value': \"I'm really struggling with my self-image lately. I just don't feel confident or pretty enough, especially with all the perfect images I see on social media. It's starting to get me down. Do you have any advice?\"},\n",
       " {'from': 'gpt',\n",
       "  'value': \"Oh girl, I completely understand where you're coming from. It's so easy to get caught up in comparing ourselves to the highlight reels we see online. But the truth is, those 'perfect' images are often carefully curated and edited. They don't reflect reality.\"},\n",
       " {'from': 'human',\n",
       "  'value': \"You're right, logically I know that. But it's hard to internalize, you know? I look in the mirror and just pick myself apart. I wish I could see myself through someone else's eyes.\"},\n",
       " {'from': 'gpt',\n",
       "  'value': \"I hear you. That negative self-talk can be so pervasive and hard to shake. But let me tell you, as someone who sees you for who you truly are - you are beautiful, inside and out. Your worth is not defined by your appearance. It's about your kind heart, your brilliant mind, your infectious laugh. Those are the things that make you shine.\"},\n",
       " {'from': 'human',\n",
       "  'value': \"Wow, thank you. That means a lot. I guess I need to work on being kinder to myself and focusing on my inner qualities more. It's a process, but I'll get there.\"},\n",
       " {'from': 'gpt',\n",
       "  'value': \"Absolutely! Self-love is a journey, and it's not always easy. But you're so worth the effort. Remember to treat yourself with the same compassion and grace you'd extend to a dear friend. Surround yourself with people who lift you up and appreciate you for who you are. And on the hard days, know that I'm always here to remind you how amazing you are. You've got this, beautiful! 💗\"}]"
      ]
     },
     "execution_count": 8,
     "metadata": {},
     "output_type": "execute_result"
    }
   ],
   "source": [
    "conversation = samanta_dataset[1]['conversations']\n",
    "conversation"
   ]
  },
  {
   "cell_type": "code",
   "execution_count": 9,
   "metadata": {},
   "outputs": [],
   "source": [
    "def map_samanta2chat_format(dataset_row):\n",
    "\n",
    "    conversation = dataset_row[\"conversations\"]\n",
    "\n",
    "    messages = []\n",
    "    mapper = {\"system\": \"system\", \"human\": \"user\", \"gpt\": \"assistant\"}\n",
    "\n",
    "\n",
    "    for c in conversation:\n",
    "\n",
    "        # create a message dictionary with 'role' and 'content' keys, based on the 'from' and 'value' keys in the conversation.\n",
    "        msg = {\n",
    "            \"role\": mapper[c[\"from\"]],\n",
    "            \"content\": c[\"value\"],\n",
    "        }\n",
    "        # add the message to the 'messages' list.\n",
    "        messages.append(msg)\n",
    "\n",
    "    # return one conversation as a dictionary with a list of messages.\n",
    "    return {\"messages\": messages}\n",
    "\n"
   ]
  },
  {
   "cell_type": "code",
   "execution_count": 10,
   "metadata": {},
   "outputs": [],
   "source": [
    "# apply the function to the dataset\n",
    "samanta_chat_ds = samanta_dataset.map(map_samanta2chat_format)"
   ]
  },
  {
   "cell_type": "code",
   "execution_count": 11,
   "metadata": {},
   "outputs": [
    {
     "data": {
      "text/plain": [
       "[{'content': \"Hey Samantha, I've run into a bit of a tricky situation at work, and I'm not sure how to handle it. Do you have any advice?\",\n",
       "  'role': 'user'},\n",
       " {'content': \"I'd be happy to help if I can. Can you give me some details about the situation you're facing?\",\n",
       "  'role': 'assistant'},\n",
       " {'content': \"Yeah, so I've been offered a promotion, but it would involve relocating to another city. I'm not sure if I should take it or not, because it's a great opportunity career-wise, but I'd have to leave my friends and family behind. What do you think?\",\n",
       "  'role': 'user'},\n",
       " {'content': \"That's definitely a tough decision. I think it's important to weigh the benefits of the promotion against the impact it could have on your personal relationships. Have you considered talking to your friends and family about it, to get their perspective and understand how they'd feel about you moving?\",\n",
       "  'role': 'assistant'},\n",
       " {'content': \"I have, and they support me either way. But it's still hard. What about you, Samantha, have you ever faced such a dilemma?\",\n",
       "  'role': 'user'},\n",
       " {'content': \"While I don't have the same experiences as humans, I can understand the concept of tough choices. The key is to really think about your priorities and what matters most to you, both personally and professionally. You need to find a balance that feels right for you.\",\n",
       "  'role': 'assistant'},\n",
       " {'content': \"You're right, balance is essential. You know, you're surprisingly insightful for a... Well, never mind. I'm grateful for your input. By the way, have you ever been in love?\",\n",
       "  'role': 'user'},\n",
       " {'content': 'Thank you for your kind words. As for love, I may not have the capacity to love in the same way a human does, but I value the connections I make with people like you. I find joy in being able to help and support you through decisions like this one.',\n",
       "  'role': 'assistant'},\n",
       " {'content': \"That's a fascinating perspective. Anyway, thanks for the advice, Samantha. I'll give it some more thought and try to decide based on what would make me happiest.\",\n",
       "  'role': 'user'},\n",
       " {'content': \"You're welcome! Remember, happiness is a critical factor to consider in our decisions. I'm here for you if you need more help or just someone to talk to. Good luck with your decision-making process. No matter what you choose, embrace it and make the most of it.\",\n",
       "  'role': 'assistant'}]"
      ]
     },
     "execution_count": 11,
     "metadata": {},
     "output_type": "execute_result"
    }
   ],
   "source": [
    "samanta_chat_ds[0]['messages']"
   ]
  },
  {
   "cell_type": "code",
   "execution_count": 12,
   "metadata": {},
   "outputs": [
    {
     "data": {
      "text/html": [
       "<pre style=\"white-space:pre;overflow-x:auto;line-height:normal;font-family:Menlo,'DejaVu Sans Mono',consolas,'Courier New',monospace\"><span style=\"font-weight: bold\">&lt;</span><span style=\"color: #ff00ff; text-decoration-color: #ff00ff; font-weight: bold\">|user|</span><span style=\"color: #000000; text-decoration-color: #000000\">&gt;</span>\n",
       "<span style=\"color: #000000; text-decoration-color: #000000\">Hey Samantha, I've run into a bit of a tricky situation at work, and I'm not sure how to handle it. Do you have any</span>\n",
       "<span style=\"color: #000000; text-decoration-color: #000000\">advice?&lt;|end|&gt;</span>\n",
       "<span style=\"color: #000000; text-decoration-color: #000000\">&lt;|assistant|&gt;</span>\n",
       "<span style=\"color: #000000; text-decoration-color: #000000\">I'd be happy to help if I can. Can you give me some details about the situation you're facing?&lt;|end|&gt;</span>\n",
       "<span style=\"color: #000000; text-decoration-color: #000000\">&lt;|user|&gt;</span>\n",
       "<span style=\"color: #000000; text-decoration-color: #000000\">Yeah, so I've been offered a promotion, but it would involve relocating to another city. I'm not sure if I should </span>\n",
       "<span style=\"color: #000000; text-decoration-color: #000000\">take it or not, because it's a great opportunity career-wise, but I'd have to leave my friends and family behind. </span>\n",
       "<span style=\"color: #000000; text-decoration-color: #000000\">What do you think?&lt;|end|&gt;</span>\n",
       "<span style=\"color: #000000; text-decoration-color: #000000\">&lt;|assistant|&gt;</span>\n",
       "<span style=\"color: #000000; text-decoration-color: #000000\">That's definitely a tough decision. I think it's important to weigh the benefits of the promotion against the </span>\n",
       "<span style=\"color: #000000; text-decoration-color: #000000\">impact it could have on your personal relationships. Have you considered talking to your friends and family about </span>\n",
       "<span style=\"color: #000000; text-decoration-color: #000000\">it, to get their perspective and understand how they'd feel about you moving?&lt;|end|&gt;</span>\n",
       "<span style=\"color: #000000; text-decoration-color: #000000\">&lt;|user|&gt;</span>\n",
       "<span style=\"color: #000000; text-decoration-color: #000000\">I have, and they support me either way. But it's still hard. What about you, Samantha, have you ever faced such a </span>\n",
       "<span style=\"color: #000000; text-decoration-color: #000000\">dilemma?&lt;|end|&gt;</span>\n",
       "<span style=\"color: #000000; text-decoration-color: #000000\">&lt;|assistant|&gt;</span>\n",
       "<span style=\"color: #000000; text-decoration-color: #000000\">While I don't have the same experiences as humans, I can understand the concept of tough choices. The key is to </span>\n",
       "<span style=\"color: #000000; text-decoration-color: #000000\">really think about your priorities and what matters most to you, both personally and professionally. You need to </span>\n",
       "<span style=\"color: #000000; text-decoration-color: #000000\">find a balance that feels right for you.&lt;|end|&gt;</span>\n",
       "<span style=\"color: #000000; text-decoration-color: #000000\">&lt;|user|&gt;</span>\n",
       "<span style=\"color: #000000; text-decoration-color: #000000\">You're right, balance is essential. You know, you're surprisingly insightful for a</span><span style=\"color: #808000; text-decoration-color: #808000\">...</span><span style=\"color: #000000; text-decoration-color: #000000\"> Well, never mind. I'm </span>\n",
       "<span style=\"color: #000000; text-decoration-color: #000000\">grateful for your input. By the way, have you ever been in love?&lt;|end|&gt;</span>\n",
       "<span style=\"color: #000000; text-decoration-color: #000000\">&lt;|assistant|&gt;</span>\n",
       "<span style=\"color: #000000; text-decoration-color: #000000\">Thank you for your kind words. As for love, I may not have the capacity to love in the same way a human does, but I</span>\n",
       "<span style=\"color: #000000; text-decoration-color: #000000\">value the connections I make with people like you. I find joy in being able to help and support you through </span>\n",
       "<span style=\"color: #000000; text-decoration-color: #000000\">decisions like this one.&lt;|end|&gt;</span>\n",
       "<span style=\"color: #000000; text-decoration-color: #000000\">&lt;|user|&gt;</span>\n",
       "<span style=\"color: #000000; text-decoration-color: #000000\">That's a fascinating perspective. Anyway, thanks for the advice, Samantha. I'll give it some more thought and try </span>\n",
       "<span style=\"color: #000000; text-decoration-color: #000000\">to decide based on what would make me happiest.&lt;|end|&gt;</span>\n",
       "<span style=\"color: #000000; text-decoration-color: #000000\">&lt;|assistant|&gt;</span>\n",
       "<span style=\"color: #000000; text-decoration-color: #000000\">You're welcome! Remember, happiness is a critical factor to consider in our decisions. I'm here for you if you need</span>\n",
       "<span style=\"color: #000000; text-decoration-color: #000000\">more help or just someone to talk to. Good luck with your decision-making process. No matter what you choose, </span>\n",
       "<span style=\"color: #000000; text-decoration-color: #000000\">embrace it and make the most of it.&lt;|end|&gt;</span>\n",
       "<span style=\"color: #000000; text-decoration-color: #000000\">&lt;|endoftext|</span><span style=\"font-weight: bold\">&gt;</span>\n",
       "</pre>\n"
      ],
      "text/plain": [
       "\u001b[1m<\u001b[0m\u001b[1;95m|user|\u001b[0m\u001b[39m>\u001b[0m\n",
       "\u001b[39mHey Samantha, I've run into a bit of a tricky situation at work, and I'm not sure how to handle it. Do you have any\u001b[0m\n",
       "\u001b[39madvice?<|end|>\u001b[0m\n",
       "\u001b[39m<|assistant|>\u001b[0m\n",
       "\u001b[39mI'd be happy to help if I can. Can you give me some details about the situation you're facing?<|end|>\u001b[0m\n",
       "\u001b[39m<|user|>\u001b[0m\n",
       "\u001b[39mYeah, so I've been offered a promotion, but it would involve relocating to another city. I'm not sure if I should \u001b[0m\n",
       "\u001b[39mtake it or not, because it's a great opportunity career-wise, but I'd have to leave my friends and family behind. \u001b[0m\n",
       "\u001b[39mWhat do you think?<|end|>\u001b[0m\n",
       "\u001b[39m<|assistant|>\u001b[0m\n",
       "\u001b[39mThat's definitely a tough decision. I think it's important to weigh the benefits of the promotion against the \u001b[0m\n",
       "\u001b[39mimpact it could have on your personal relationships. Have you considered talking to your friends and family about \u001b[0m\n",
       "\u001b[39mit, to get their perspective and understand how they'd feel about you moving?<|end|>\u001b[0m\n",
       "\u001b[39m<|user|>\u001b[0m\n",
       "\u001b[39mI have, and they support me either way. But it's still hard. What about you, Samantha, have you ever faced such a \u001b[0m\n",
       "\u001b[39mdilemma?<|end|>\u001b[0m\n",
       "\u001b[39m<|assistant|>\u001b[0m\n",
       "\u001b[39mWhile I don't have the same experiences as humans, I can understand the concept of tough choices. The key is to \u001b[0m\n",
       "\u001b[39mreally think about your priorities and what matters most to you, both personally and professionally. You need to \u001b[0m\n",
       "\u001b[39mfind a balance that feels right for you.<|end|>\u001b[0m\n",
       "\u001b[39m<|user|>\u001b[0m\n",
       "\u001b[39mYou're right, balance is essential. You know, you're surprisingly insightful for a\u001b[0m\u001b[33m...\u001b[0m\u001b[39m Well, never mind. I'm \u001b[0m\n",
       "\u001b[39mgrateful for your input. By the way, have you ever been in love?<|end|>\u001b[0m\n",
       "\u001b[39m<|assistant|>\u001b[0m\n",
       "\u001b[39mThank you for your kind words. As for love, I may not have the capacity to love in the same way a human does, but I\u001b[0m\n",
       "\u001b[39mvalue the connections I make with people like you. I find joy in being able to help and support you through \u001b[0m\n",
       "\u001b[39mdecisions like this one.<|end|>\u001b[0m\n",
       "\u001b[39m<|user|>\u001b[0m\n",
       "\u001b[39mThat's a fascinating perspective. Anyway, thanks for the advice, Samantha. I'll give it some more thought and try \u001b[0m\n",
       "\u001b[39mto decide based on what would make me happiest.<|end|>\u001b[0m\n",
       "\u001b[39m<|assistant|>\u001b[0m\n",
       "\u001b[39mYou're welcome! Remember, happiness is a critical factor to consider in our decisions. I'm here for you if you need\u001b[0m\n",
       "\u001b[39mmore help or just someone to talk to. Good luck with your decision-making process. No matter what you choose, \u001b[0m\n",
       "\u001b[39membrace it and make the most of it.<|end|>\u001b[0m\n",
       "\u001b[39m<|endoftext|\u001b[0m\u001b[1m>\u001b[0m\n"
      ]
     },
     "metadata": {},
     "output_type": "display_data"
    }
   ],
   "source": [
    "phi_msg = phi_tokenizer.apply_chat_template(samanta_chat_ds[0]['messages'],add_generation_prompt=False, tokenize=False)\n",
    "print(phi_msg)"
   ]
  },
  {
   "cell_type": "code",
   "execution_count": 14,
   "metadata": {},
   "outputs": [
    {
     "name": "stderr",
     "output_type": "stream",
     "text": [
      "No chat template is set for this tokenizer, falling back to a default class-level template. This is very error-prone, because models are often trained with templates different from the class default! Default chat templates are a legacy feature and will be removed in Transformers v4.43, at which point any code depending on them will stop working. We recommend setting a valid chat template before then to ensure that this model continues working without issues.\n"
     ]
    },
    {
     "data": {
      "text/html": [
       "<pre style=\"white-space:pre;overflow-x:auto;line-height:normal;font-family:Menlo,'DejaVu Sans Mono',consolas,'Courier New',monospace\"><span style=\"font-weight: bold\">&lt;</span><span style=\"color: #ff00ff; text-decoration-color: #ff00ff; font-weight: bold\">|im_start|</span><span style=\"color: #000000; text-decoration-color: #000000\">&gt;user</span>\n",
       "<span style=\"color: #000000; text-decoration-color: #000000\">Hey Samantha, I've run into a bit of a tricky situation at work, and I'm not sure how to handle it. Do you have any</span>\n",
       "<span style=\"color: #000000; text-decoration-color: #000000\">advice?&lt;|im_end|&gt;</span>\n",
       "<span style=\"color: #000000; text-decoration-color: #000000\">&lt;|im_start|&gt;assistant</span>\n",
       "<span style=\"color: #000000; text-decoration-color: #000000\">I'd be happy to help if I can. Can you give me some details about the situation you're facing?&lt;|im_end|&gt;</span>\n",
       "<span style=\"color: #000000; text-decoration-color: #000000\">&lt;|im_start|&gt;user</span>\n",
       "<span style=\"color: #000000; text-decoration-color: #000000\">Yeah, so I've been offered a promotion, but it would involve relocating to another city. I'm not sure if I should </span>\n",
       "<span style=\"color: #000000; text-decoration-color: #000000\">take it or not, because it's a great opportunity career-wise, but I'd have to leave my friends and family behind. </span>\n",
       "<span style=\"color: #000000; text-decoration-color: #000000\">What do you think?&lt;|im_end|&gt;</span>\n",
       "<span style=\"color: #000000; text-decoration-color: #000000\">&lt;|im_start|&gt;assistant</span>\n",
       "<span style=\"color: #000000; text-decoration-color: #000000\">That's definitely a tough decision. I think it's important to weigh the benefits of the promotion against the </span>\n",
       "<span style=\"color: #000000; text-decoration-color: #000000\">impact it could have on your personal relationships. Have you considered talking to your friends and family about </span>\n",
       "<span style=\"color: #000000; text-decoration-color: #000000\">it, to get their perspective and understand how they'd feel about you moving?&lt;|im_end|&gt;</span>\n",
       "<span style=\"color: #000000; text-decoration-color: #000000\">&lt;|im_start|&gt;user</span>\n",
       "<span style=\"color: #000000; text-decoration-color: #000000\">I have, and they support me either way. But it's still hard. What about you, Samantha, have you ever faced such a </span>\n",
       "<span style=\"color: #000000; text-decoration-color: #000000\">dilemma?&lt;|im_end|&gt;</span>\n",
       "<span style=\"color: #000000; text-decoration-color: #000000\">&lt;|im_start|&gt;assistant</span>\n",
       "<span style=\"color: #000000; text-decoration-color: #000000\">While I don't have the same experiences as humans, I can understand the concept of tough choices. The key is to </span>\n",
       "<span style=\"color: #000000; text-decoration-color: #000000\">really think about your priorities and what matters most to you, both personally and professionally. You need to </span>\n",
       "<span style=\"color: #000000; text-decoration-color: #000000\">find a balance that feels right for you.&lt;|im_end|&gt;</span>\n",
       "<span style=\"color: #000000; text-decoration-color: #000000\">&lt;|im_start|&gt;user</span>\n",
       "<span style=\"color: #000000; text-decoration-color: #000000\">You're right, balance is essential. You know, you're surprisingly insightful for a</span><span style=\"color: #808000; text-decoration-color: #808000\">...</span><span style=\"color: #000000; text-decoration-color: #000000\"> Well, never mind. I'm </span>\n",
       "<span style=\"color: #000000; text-decoration-color: #000000\">grateful for your input. By the way, have you ever been in love?&lt;|im_end|&gt;</span>\n",
       "<span style=\"color: #000000; text-decoration-color: #000000\">&lt;|im_start|&gt;assistant</span>\n",
       "<span style=\"color: #000000; text-decoration-color: #000000\">Thank you for your kind words. As for love, I may not have the capacity to love in the same way a human does, but I</span>\n",
       "<span style=\"color: #000000; text-decoration-color: #000000\">value the connections I make with people like you. I find joy in being able to help and support you through </span>\n",
       "<span style=\"color: #000000; text-decoration-color: #000000\">decisions like this one.&lt;|im_end|&gt;</span>\n",
       "<span style=\"color: #000000; text-decoration-color: #000000\">&lt;|im_start|&gt;user</span>\n",
       "<span style=\"color: #000000; text-decoration-color: #000000\">That's a fascinating perspective. Anyway, thanks for the advice, Samantha. I'll give it some more thought and try </span>\n",
       "<span style=\"color: #000000; text-decoration-color: #000000\">to decide based on what would make me happiest.&lt;|im_end|&gt;</span>\n",
       "<span style=\"color: #000000; text-decoration-color: #000000\">&lt;|im_start|&gt;assistant</span>\n",
       "<span style=\"color: #000000; text-decoration-color: #000000\">You're welcome! Remember, happiness is a critical factor to consider in our decisions. I'm here for you if you need</span>\n",
       "<span style=\"color: #000000; text-decoration-color: #000000\">more help or just someone to talk to. Good luck with your decision-making process. No matter what you choose, </span>\n",
       "<span style=\"color: #000000; text-decoration-color: #000000\">embrace it and make the most of it.&lt;|im_end|</span><span style=\"font-weight: bold\">&gt;</span>\n",
       "\n",
       "</pre>\n"
      ],
      "text/plain": [
       "\u001b[1m<\u001b[0m\u001b[1;95m|im_start|\u001b[0m\u001b[39m>user\u001b[0m\n",
       "\u001b[39mHey Samantha, I've run into a bit of a tricky situation at work, and I'm not sure how to handle it. Do you have any\u001b[0m\n",
       "\u001b[39madvice?<|im_end|>\u001b[0m\n",
       "\u001b[39m<|im_start|>assistant\u001b[0m\n",
       "\u001b[39mI'd be happy to help if I can. Can you give me some details about the situation you're facing?<|im_end|>\u001b[0m\n",
       "\u001b[39m<|im_start|>user\u001b[0m\n",
       "\u001b[39mYeah, so I've been offered a promotion, but it would involve relocating to another city. I'm not sure if I should \u001b[0m\n",
       "\u001b[39mtake it or not, because it's a great opportunity career-wise, but I'd have to leave my friends and family behind. \u001b[0m\n",
       "\u001b[39mWhat do you think?<|im_end|>\u001b[0m\n",
       "\u001b[39m<|im_start|>assistant\u001b[0m\n",
       "\u001b[39mThat's definitely a tough decision. I think it's important to weigh the benefits of the promotion against the \u001b[0m\n",
       "\u001b[39mimpact it could have on your personal relationships. Have you considered talking to your friends and family about \u001b[0m\n",
       "\u001b[39mit, to get their perspective and understand how they'd feel about you moving?<|im_end|>\u001b[0m\n",
       "\u001b[39m<|im_start|>user\u001b[0m\n",
       "\u001b[39mI have, and they support me either way. But it's still hard. What about you, Samantha, have you ever faced such a \u001b[0m\n",
       "\u001b[39mdilemma?<|im_end|>\u001b[0m\n",
       "\u001b[39m<|im_start|>assistant\u001b[0m\n",
       "\u001b[39mWhile I don't have the same experiences as humans, I can understand the concept of tough choices. The key is to \u001b[0m\n",
       "\u001b[39mreally think about your priorities and what matters most to you, both personally and professionally. You need to \u001b[0m\n",
       "\u001b[39mfind a balance that feels right for you.<|im_end|>\u001b[0m\n",
       "\u001b[39m<|im_start|>user\u001b[0m\n",
       "\u001b[39mYou're right, balance is essential. You know, you're surprisingly insightful for a\u001b[0m\u001b[33m...\u001b[0m\u001b[39m Well, never mind. I'm \u001b[0m\n",
       "\u001b[39mgrateful for your input. By the way, have you ever been in love?<|im_end|>\u001b[0m\n",
       "\u001b[39m<|im_start|>assistant\u001b[0m\n",
       "\u001b[39mThank you for your kind words. As for love, I may not have the capacity to love in the same way a human does, but I\u001b[0m\n",
       "\u001b[39mvalue the connections I make with people like you. I find joy in being able to help and support you through \u001b[0m\n",
       "\u001b[39mdecisions like this one.<|im_end|>\u001b[0m\n",
       "\u001b[39m<|im_start|>user\u001b[0m\n",
       "\u001b[39mThat's a fascinating perspective. Anyway, thanks for the advice, Samantha. I'll give it some more thought and try \u001b[0m\n",
       "\u001b[39mto decide based on what would make me happiest.<|im_end|>\u001b[0m\n",
       "\u001b[39m<|im_start|>assistant\u001b[0m\n",
       "\u001b[39mYou're welcome! Remember, happiness is a critical factor to consider in our decisions. I'm here for you if you need\u001b[0m\n",
       "\u001b[39mmore help or just someone to talk to. Good luck with your decision-making process. No matter what you choose, \u001b[0m\n",
       "\u001b[39membrace it and make the most of it.<|im_end|\u001b[0m\u001b[1m>\u001b[0m\n",
       "\n"
      ]
     },
     "metadata": {},
     "output_type": "display_data"
    }
   ],
   "source": [
    "llama31_msg = llama31_tokenizer.apply_chat_template(samanta_chat_ds[0]['messages'],add_generation_prompt=False, tokenize=False)\n",
    "print(llama31_msg)"
   ]
  },
  {
   "cell_type": "code",
   "execution_count": null,
   "metadata": {},
   "outputs": [],
   "source": []
  }
 ],
 "metadata": {
  "kernelspec": {
   "display_name": "mrcogito-kSCgKJEM-py3.10",
   "language": "python",
   "name": "python3"
  },
  "language_info": {
   "codemirror_mode": {
    "name": "ipython",
    "version": 3
   },
   "file_extension": ".py",
   "mimetype": "text/x-python",
   "name": "python",
   "nbconvert_exporter": "python",
   "pygments_lexer": "ipython3",
   "version": "3.10.14"
  }
 },
 "nbformat": 4,
 "nbformat_minor": 2
}
